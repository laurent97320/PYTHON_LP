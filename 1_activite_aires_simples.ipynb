{
 "cells": [
  {
   "cell_type": "markdown",
   "metadata": {},
   "source": [
    "# ALGORITHMIQUE ET PROGRAMMATION\n",
    "Les programmes informatiques permettent d'automatiser les tâches, de résoudre des problèmes, ...   \n",
    "Dans les enseignements secondaire et supérieur, le langage de programmation utilisé est le langage **Python.**        \n",
    "\n",
    "![log_python](image_logo_python.png)\n",
    "\n",
    "&#9888; Le document de travail est un *notebook* : c'est un document *interactif*.   \n",
    "**Les codes du document peuvent être complétés, testés et modifiés**. Pour celà, `clic` sur le cadre, puis &#x27A7;`Exécuter` dans la barre d'outils ci-dessus.  \n",
    "Pour *rafraîchir* tous les codes, `Kernel` -> `Restart & Clear Output` \n",
    "\n",
    "## ETUDE 1: CREATION DE FONCTIONS PERMETTANT DE CALCULER LES AIRES DES FIGURES PLANES USUELLES\n",
    "## Objectifs: \n",
    "* Comprendre et utiliser des fonctions\n",
    "* Compléter la définition d'une fonction "
   ]
  },
  {
   "cell_type": "markdown",
   "metadata": {},
   "source": [
    "## 1. LE RECTANGLE  \n",
    "&#128187; **Travail à faire**\n",
    "1. &#x27A7;`Exécuter` le code suivant définissant une fonction qui renvoie l'aire d'un rectangle :"
   ]
  },
  {
   "cell_type": "code",
   "execution_count": null,
   "metadata": {},
   "outputs": [],
   "source": [
    "def aireRectangle (L,l):\n",
    "    \"\"\"\n",
    "    Variables d'entrée:\n",
    "    L: longueur \n",
    "    l: largeur\n",
    "        \n",
    "    Variable de sortie:\n",
    "    A: aire du rectangle\n",
    "    \"\"\"\n",
    "    A= L*l\n",
    "    return A    "
   ]
  },
  {
   "cell_type": "markdown",
   "metadata": {},
   "source": [
    "2. Dans la console Python, taper et exécuter la ligne suivante pour calculer l'aire du rectangle de dimensions: L=12cm, l=4cm. "
   ]
  },
  {
   "cell_type": "code",
   "execution_count": null,
   "metadata": {},
   "outputs": [],
   "source": [
    "aireRectangle(12,4)"
   ]
  },
  {
   "cell_type": "markdown",
   "metadata": {},
   "source": [
    "3. Calculer d'autres aires en modifiant les variables."
   ]
  },
  {
   "cell_type": "markdown",
   "metadata": {},
   "source": [
    "## 2. LE CARRE \n",
    "&#128187; **Travail à faire**\n",
    "1. Exécuter le code suivant définissant une fonction qui renvoie l'aire d'un carré :"
   ]
  },
  {
   "cell_type": "code",
   "execution_count": null,
   "metadata": {},
   "outputs": [],
   "source": [
    "def aireCarre(c):\n",
    "    \"\"\"\n",
    "    Variable d'entrée:\n",
    "    c: coté \n",
    "       \n",
    "    Variable de sortie:\n",
    "    A: aire du carré\n",
    "    \"\"\"\n",
    "    A=c**2\n",
    "    return A   "
   ]
  },
  {
   "cell_type": "markdown",
   "metadata": {},
   "source": [
    "2. Dans la console Python, taper et exécuter la ligne suivante pour calculer l'aire d'un carré de dimension: c=5cm.  "
   ]
  },
  {
   "cell_type": "code",
   "execution_count": null,
   "metadata": {},
   "outputs": [],
   "source": [
    "aireCarre(5)"
   ]
  },
  {
   "cell_type": "markdown",
   "metadata": {},
   "source": [
    "3. Calculer d'autres aires en modifiant les variables."
   ]
  },
  {
   "cell_type": "markdown",
   "metadata": {},
   "source": [
    "## 3. LE TRIANGLE  \n",
    "&#128187; **Travail à faire**\n",
    "1. *Compléter et exécuter* le code suivant définissant une fonction qui renvoie l'aire d'un triangle :"
   ]
  },
  {
   "cell_type": "code",
   "execution_count": null,
   "metadata": {},
   "outputs": [],
   "source": [
    "def aireTriangle(b,h):\n",
    "    \"\"\"\n",
    "    Variable d'entrée:\n",
    "    b:                  #indiquer ce que représente la variable b\n",
    "    h:                  #indiquer ce que représente la variable h\n",
    "       \n",
    "    Variable de sortie:\n",
    "    A:                  #indiquer ce que représente la variable A\n",
    "    \"\"\"\n",
    "                    \n",
    "    A=                  #indiquer la formule      \n",
    "    return A    "
   ]
  },
  {
   "cell_type": "markdown",
   "metadata": {},
   "source": [
    "2. Dans la console Python, taper et exécuter la ligne suivante pour calculer l'aire d'un triangle de dimensions: b=7cm et h=3cm.  "
   ]
  },
  {
   "cell_type": "code",
   "execution_count": null,
   "metadata": {},
   "outputs": [],
   "source": [
    "aireTriangle(7,3)"
   ]
  },
  {
   "cell_type": "markdown",
   "metadata": {},
   "source": [
    "3. Contrôler le résultat en comparant avec la solution de l'exercice de la fiche **\"Les aires des figures planes usuelles\"**.  \n",
    "Calculer d'autres aires en modifiant les variables."
   ]
  },
  {
   "cell_type": "markdown",
   "metadata": {},
   "source": [
    "## 4. LE DISQUE\n",
    "&#128187; **Travail à faire**\n",
    "1. *Compléter et exécuter* le code suivant définissant une fonction qui renvoie l'aire d'un disque :"
   ]
  },
  {
   "cell_type": "code",
   "execution_count": null,
   "metadata": {},
   "outputs": [],
   "source": [
    "from math import pi       #commande qui importe les fonctions et variables du module \"math\"\n",
    "def aireDisque(R):\n",
    "    \"\"\"\n",
    "    Variable d'entrée:\n",
    "    R:                    #indiquer ce que représente la variable R\n",
    "       \n",
    "    Variable de sortie:\n",
    "    A:                    #indiquer ce que représente la variable A\n",
    "    \"\"\"\n",
    "    A=pi*                #indiquer la formule (pour calculer une puissance x^2, x^3)\n",
    "    return A    "
   ]
  },
  {
   "cell_type": "markdown",
   "metadata": {},
   "source": [
    "2. Dans la console Python, taper et exécuter la ligne suivante pour calculer l'aire d'un disque de dimension: R=2,5cm.  "
   ]
  },
  {
   "cell_type": "code",
   "execution_count": null,
   "metadata": {},
   "outputs": [],
   "source": [
    "aireDisque(2.5)"
   ]
  },
  {
   "cell_type": "markdown",
   "metadata": {},
   "source": [
    "3. Contrôler le résultat en comparant avec la solution de l'exercice de la fiche **\"Les aires des figures planes usuelles\"**.  \n",
    "Calculer d'autres aires en modifiant les variables."
   ]
  }
 ],
 "metadata": {
  "kernelspec": {
   "display_name": "Python 3",
   "language": "python",
   "name": "python3"
  },
  "language_info": {
   "codemirror_mode": {
    "name": "ipython",
    "version": 3
   },
   "file_extension": ".py",
   "mimetype": "text/x-python",
   "name": "python",
   "nbconvert_exporter": "python",
   "pygments_lexer": "ipython3",
   "version": "3.7.6"
  }
 },
 "nbformat": 4,
 "nbformat_minor": 4
}
