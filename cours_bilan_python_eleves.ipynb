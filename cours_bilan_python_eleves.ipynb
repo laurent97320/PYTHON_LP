{
 "cells": [
  {
   "cell_type": "markdown",
   "metadata": {},
   "source": [
    "# SAVOIR PROGRAMMER AVEC LE LANGAGE PYTHON"
   ]
  },
  {
   "cell_type": "markdown",
   "metadata": {},
   "source": [
    "## LES FONCTIONS\n",
    "\n",
    "**1. Création de fonctions**    \n",
    "Pour créer une fonction, une syntaxe est :\n",
    "```python\n",
    "def nom_de_la_fonction(paramètre1, paramètre2, ...): \n",
    "    #bloc d'intructions\n",
    "    return variable\n",
    "```\n",
    "&#128187; *Exemples de codes à exécuter:*"
   ]
  },
  {
   "cell_type": "code",
   "execution_count": 2,
   "metadata": {},
   "outputs": [
    {
     "data": {
      "text/plain": [
       "100"
      ]
     },
     "execution_count": 2,
     "metadata": {},
     "output_type": "execute_result"
    }
   ],
   "source": [
    "#Fonction calculant le volume d'un pavé droit\n",
    "\n",
    "def volume_pave_droit(L,l,h):       #!!! NE PAS OUBLIER LES :     \n",
    "    v=L*l*h                         #!!! RESPECTER LES INDENTATIONS (espacements) DU BLOC d'instructions de la fonction\n",
    "    return v\n",
    "    \n",
    "#Test de la fonction\n",
    "volume_pave_droit(10,5,2)"
   ]
  },
  {
   "cell_type": "markdown",
   "metadata": {},
   "source": [
    "**2. Importation de fonctions**\n",
    " \n",
    "Pour importer des fonctions d'un module, la syntaxe est :\n",
    "```python\n",
    "from nom_du_module import *                   # importe tout le contenu du module\n",
    "from nom_du_module import nom_de_la_fonction  #importe la fonction\n",
    "```\n",
    "\n",
    "*Exemples de modules et bibliothèque utiles:*    \n",
    "\n",
    "<table align=\"center\">\n",
    "  <tr>\n",
    "    <td><b><i>math</b></i></td>\n",
    "    <td>Contient les principales fonctions mathématiques</td>\n",
    "  </tr>\n",
    "  <tr>\n",
    "    <td><b><i>random</b></i></td>\n",
    "    <td>Permet la génération de nombres aléatoires</td>\n",
    "  </tr>\n",
    "  <tr>\n",
    "    <td><b><i>turtle</b></i></td>\n",
    "      <td>La tortue Python, l'équivalent de <i>Scratch</i> <br>Permet de tracer des figures géométriques</td>\n",
    "  </tr>\n",
    "  <tr>\n",
    "    <td><b><i>matplotlib <br><i>(bibliothèque)<i/> </b></i></td>\n",
    "    <td> Permet la réalisation de représentations graphiques,<br> de diagrammes statistiques, ...</td>\n",
    "  </tr>\n",
    "</table>"
   ]
  },
  {
   "cell_type": "markdown",
   "metadata": {},
   "source": [
    "&#128187; *Exemples d'importations de modules et d'utilisations de fonctions:*"
   ]
  },
  {
   "cell_type": "code",
   "execution_count": 3,
   "metadata": {},
   "outputs": [
    {
     "name": "stdout",
     "output_type": "stream",
     "text": [
      "3.141592653589793\n"
     ]
    }
   ],
   "source": [
    "from math import pi   #Importation de la valeur pi du module math\n",
    "a=pi\n",
    "print(a)              #Affiche la valeur de la variable a"
   ]
  },
  {
   "cell_type": "code",
   "execution_count": 4,
   "metadata": {},
   "outputs": [
    {
     "name": "stdout",
     "output_type": "stream",
     "text": [
      "3.14\n"
     ]
    }
   ],
   "source": [
    "from math import *    #Importation de TOUTES les fonctions et variables du module math\n",
    "a=round(pi,2)\n",
    "print(a)              #Affiche la valeur arrondie à 2 décimales de pi"
   ]
  },
  {
   "cell_type": "markdown",
   "metadata": {},
   "source": [
    "**3. Quelques fonctions très utiles**   \n",
    "\n",
    "<table align=\"center\">\n",
    "  <tr>\n",
    "    <td align=\"center\"><b><i>print</b></i></td>\n",
    "      <td align=\"center\"><b>print</b>(<i>valeur1, valeur2, ...</i>)</td>\n",
    "      <td><b>Affiche la valeur</b> ou les valeurs d'une ou plusieurs variables.</td>  \n",
    "  </tr>\n",
    "    <tr>\n",
    "    <td align=\"center\"><b><i>input</b></i></td>\n",
    "      <td align=\"center\"><b>input</b>(<i>paramètre</i>)</td>\n",
    "      <td><b>Renvoie l'objet</b> saisi par l'utilisateur.</td>  \n",
    "  </tr>\n",
    "</table>\n",
    "\n",
    "&#128187; *Exemples de codes à exécuter:*"
   ]
  },
  {
   "cell_type": "code",
   "execution_count": 5,
   "metadata": {},
   "outputs": [
    {
     "name": "stdout",
     "output_type": "stream",
     "text": [
      "votre lycée:tarcy\n",
      "dans quelle ville ?slm\n",
      "Mon lycée est tarcy à slm\n"
     ]
    }
   ],
   "source": [
    "lycee=input(\"votre lycée:\")               #La variable lycée reçoit la réponse\n",
    "ville=input(\"dans quelle ville ?\")      \n",
    "print(\"Mon lycée est\", lycee, \"à\", ville)"
   ]
  },
  {
   "cell_type": "code",
   "execution_count": 1,
   "metadata": {},
   "outputs": [
    {
     "name": "stdout",
     "output_type": "stream",
     "text": [
      "Le volume en m3 est 100\n"
     ]
    }
   ],
   "source": [
    "def volume_pave_droit(L,l,h):                     \n",
    "    v=L*l*h                                     \n",
    "    return v\n",
    "    \n",
    "a=volume_pave_droit(10,5,2)\n",
    "print(\"Le volume en m3 est\",a)"
   ]
  }
 ],
 "metadata": {
  "kernelspec": {
   "display_name": "Python 3",
   "language": "python",
   "name": "python3"
  },
  "language_info": {
   "codemirror_mode": {
    "name": "ipython",
    "version": 3
   },
   "file_extension": ".py",
   "mimetype": "text/x-python",
   "name": "python",
   "nbconvert_exporter": "python",
   "pygments_lexer": "ipython3",
   "version": "3.7.6"
  }
 },
 "nbformat": 4,
 "nbformat_minor": 4
}
