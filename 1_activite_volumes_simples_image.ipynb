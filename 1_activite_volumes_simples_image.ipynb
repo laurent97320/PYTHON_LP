{
 "cells": [
  {
   "cell_type": "markdown",
   "metadata": {},
   "source": [
    "# ALGORITHMIQUE ET PROGRAMMATION\n",
    "Les programmes informatiques permettent d'automatiser les tâches, de résoudre des problèmes, ...   \n",
    "Dans les enseignements secondaire et supérieur, le langage de programmation utilisé est le langage **Python.**        \n",
    "\n",
    "![log_python](image_logo_python.png)\n",
    "\n",
    "&#9888; Le document de travail est un *notebook* : c'est un document *interactif*.   \n",
    "**Les codes du document peuvent être complétés, testés et modifiés**. Pour celà, `clic` sur le cadre, puis &#x27A7;`Exécuter` dans la barre d'outils ci-dessus.  \n",
    "Pour *rafraîchir* tous les codes, `Kernel` -> `Restart & Clear Output` \n",
    "\n",
    "## ETUDE 1: CREATION DE FONCTIONS PERMETTANT DE CALCULER LES VOLUMES DES SOLIDES SIMPLES\n",
    "## Objectifs: \n",
    "* Comprendre et utiliser des fonctions\n",
    "* Compléter la définition d'une fonction "
   ]
  },
  {
   "cell_type": "markdown",
   "metadata": {},
   "source": [
    "## 1. LE PAVE DROIT  \n",
    "&#128187; **Travail à faire**\n",
    "1. Exécuter le code suivant définissant une fonction qui renvoie le volume d'un pavé droit :"
   ]
  },
  {
   "cell_type": "code",
   "execution_count": null,
   "metadata": {},
   "outputs": [],
   "source": [
    "def volume_pave_droit (L,l,h):\n",
    "    \"\"\"\n",
    "    Variables d'entrée:\n",
    "    L: longueur \n",
    "    l: largeur\n",
    "    h: hauteur\n",
    "    \n",
    "    Variable de sortie:\n",
    "    V: volume du pavé droit\n",
    "    \"\"\"\n",
    "    V= L*l*h\n",
    "    return V    "
   ]
  },
  {
   "cell_type": "markdown",
   "metadata": {},
   "source": [
    "2. Exécuter la ligne suivante pour calculer le volume du pavé droit de dimensions: L=12m, l=4m, h=2m. "
   ]
  },
  {
   "cell_type": "code",
   "execution_count": null,
   "metadata": {},
   "outputs": [],
   "source": [
    "volume_pave_droit(12,4,2)"
   ]
  },
  {
   "cell_type": "markdown",
   "metadata": {},
   "source": [
    "3. Contrôler le résultat en comparant avec la solution de l'exercice 1 (volume de la piscine)."
   ]
  },
  {
   "cell_type": "markdown",
   "metadata": {},
   "source": [
    "## 2. LE CYLINDRE DROIT  \n",
    "&#128187; **Travail à faire**\n",
    "1. Exécuter le code suivant définissant une fonction qui renvoie le volume d'un cylindre droit :"
   ]
  },
  {
   "cell_type": "code",
   "execution_count": null,
   "metadata": {},
   "outputs": [],
   "source": [
    "from math import pi\n",
    "def volume_cylindre_droit (D,h):\n",
    "    \"\"\"\n",
    "    Variables d'entrée:\n",
    "    D: diamètre \n",
    "    h: hauteur\n",
    "    \n",
    "    Variable de sortie:\n",
    "    V: volume du cylindre droit\n",
    "    \"\"\"\n",
    "    R=D/2\n",
    "    V= pi*(R**2)*h\n",
    "    return V    "
   ]
  },
  {
   "cell_type": "markdown",
   "metadata": {},
   "source": [
    "2. Exécuter la ligne suivante pour calculer le volume du cylindre de dimensions: D=1.5m et h=6m.  "
   ]
  },
  {
   "cell_type": "code",
   "execution_count": null,
   "metadata": {},
   "outputs": [],
   "source": [
    "volume_cylindre_droit(1.5,6)"
   ]
  },
  {
   "cell_type": "markdown",
   "metadata": {},
   "source": [
    "3. Contrôler le résultat en comparant avec la solution de l'exercice 2 (volume de la citerne du camion)."
   ]
  },
  {
   "cell_type": "markdown",
   "metadata": {},
   "source": [
    "## 3. LA BOULE   \n",
    "&#128187; **Travail à faire**\n",
    "1. *Compléter et exécuter* le code suivant définissant une fonction qui renvoie le volume d'une boule :"
   ]
  },
  {
   "cell_type": "code",
   "execution_count": null,
   "metadata": {},
   "outputs": [],
   "source": [
    "from math import pi\n",
    "def volume_boule (D):\n",
    "    \"\"\"\n",
    "    Variable d'entrée:\n",
    "    D:                  #indiquer ce que représente la variable D\n",
    "       \n",
    "    Variable de sortie:\n",
    "    V:                  #indiquer ce que représente la variable V\n",
    "    \"\"\"\n",
    "    R=                  #à compléter                  \n",
    "    V=                  #indiquer la formule      \n",
    "    return V    "
   ]
  },
  {
   "cell_type": "markdown",
   "metadata": {},
   "source": [
    "2. Exécuter la ligne suivante pour calculer le volume d'une boule de diamètre D=48mm.  "
   ]
  },
  {
   "cell_type": "code",
   "execution_count": null,
   "metadata": {},
   "outputs": [],
   "source": [
    "volume_boule(48)"
   ]
  },
  {
   "cell_type": "markdown",
   "metadata": {},
   "source": [
    "3. Contrôler le résultat en comparant avec la solution de l'exercice 3 (volume d'une bille)."
   ]
  },
  {
   "cell_type": "markdown",
   "metadata": {},
   "source": [
    "## 4. LE CONE  \n",
    "&#128187; **Travail à faire**\n",
    "1. *Compléter et exécuter* le code suivant définissant une fonction qui renvoie le volume d'un cône :"
   ]
  },
  {
   "cell_type": "code",
   "execution_count": null,
   "metadata": {},
   "outputs": [],
   "source": [
    "from math import pi\n",
    "def volume_cone (D,h):\n",
    "    \"\"\"\n",
    "    Variable d'entrée:\n",
    "    D:                    #indiquer ce que représente la variable D\n",
    "    h:                    #indiquer ce que représente la variable h\n",
    "       \n",
    "    Variable de sortie:\n",
    "    V:                    #indiquer ce que représente la variable V\n",
    "    \"\"\"\n",
    "    R=                    #à compléter\n",
    "    V=                    #indiquer la formule\n",
    "    return V    "
   ]
  },
  {
   "cell_type": "markdown",
   "metadata": {},
   "source": [
    "2. Exécuter la ligne suivante pour calculer le volume d'un cône de dimensions: D=5m, h=5m.  "
   ]
  },
  {
   "cell_type": "code",
   "execution_count": null,
   "metadata": {},
   "outputs": [],
   "source": [
    "volume_cone(5,5)"
   ]
  }
 ],
 "metadata": {
  "kernelspec": {
   "display_name": "Python 3",
   "language": "python",
   "name": "python3"
  },
  "language_info": {
   "codemirror_mode": {
    "name": "ipython",
    "version": 3
   },
   "file_extension": ".py",
   "mimetype": "text/x-python",
   "name": "python",
   "nbconvert_exporter": "python",
   "pygments_lexer": "ipython3",
   "version": "3.7.6"
  }
 },
 "nbformat": 4,
 "nbformat_minor": 4
}
